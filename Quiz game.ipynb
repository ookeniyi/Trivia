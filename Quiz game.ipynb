{
 "cells": [
  {
   "cell_type": "code",
   "execution_count": null,
   "metadata": {},
   "outputs": [],
   "source": [
    "print(\"Welcome to my computer quiz!\")\n",
    "\n",
    "playing = input(\"Do you want to play? \")\n",
    "\n",
    "if playing.lower() != \"yes\":\n",
    "    quit()\n",
    "\n",
    "print(\"Okay! Let's play :) \")\n",
    "score = 0\n",
    "\n",
    "answer = input(\"What is my middle name? \")\n",
    "if answer.lower() == \"oladele\" :\n",
    "    print('correct! ')\n",
    "    score += 1\n",
    "else:\n",
    "    print(\"incorrect! \")\n",
    "\n",
    "answer = input(\"What is the name of my hometown? \")\n",
    "if answer.lower() == \"ibadan\" :\n",
    "    print('correct! ')\n",
    "    score += 1\n",
    "else:\n",
    "    print(\"incorrect! \")\n",
    "    \n",
    "answer = input(\"What is my favorite food to eat? \")\n",
    "if answer.lower() == \"iyan and egusi\" :\n",
    "    print('correct! ')\n",
    "    score += 1\n",
    "else:\n",
    "    print(\"incorrect! \")\n",
    "    \n",
    "answer = input(\"Who do I want to punch in the face at AU? \")\n",
    "if answer.lower() == \"scott\" :\n",
    "    print('correct! ')\n",
    "    score += 1\n",
    "else:\n",
    "    print(\"incorrect! \")\n",
    "    \n",
    "print(\"You got \" + str(score) + \"questions correct!\")\n",
    "print(\"You got \" + str((score/4) * 100) + \"%.\")"
   ]
  }
 ],
 "metadata": {
  "kernelspec": {
   "display_name": "Python 3",
   "language": "python",
   "name": "python3"
  },
  "language_info": {
   "codemirror_mode": {
    "name": "ipython",
    "version": 3
   },
   "file_extension": ".py",
   "mimetype": "text/x-python",
   "name": "python",
   "nbconvert_exporter": "python",
   "pygments_lexer": "ipython3",
   "version": "3.8.3"
  }
 },
 "nbformat": 4,
 "nbformat_minor": 4
}
